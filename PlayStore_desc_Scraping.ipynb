{
  "nbformat": 4,
  "nbformat_minor": 0,
  "metadata": {
    "colab": {
      "name": "PlayStore_desc_Scraping.ipynb",
      "version": "0.3.2",
      "provenance": [],
      "collapsed_sections": [],
      "include_colab_link": true
    },
    "kernelspec": {
      "name": "python2",
      "display_name": "Python 2"
    }
  },
  "cells": [
    {
      "cell_type": "markdown",
      "metadata": {
        "id": "view-in-github",
        "colab_type": "text"
      },
      "source": [
        "<a href=\"https://colab.research.google.com/github/ThejaswiniNayak/Recommenders/blob/master/PlayStore_desc_Scraping.ipynb\" target=\"_parent\"><img src=\"https://colab.research.google.com/assets/colab-badge.svg\" alt=\"Open In Colab\"/></a>"
      ]
    },
    {
      "cell_type": "code",
      "metadata": {
        "id": "LUdeUvvTqRHq",
        "colab_type": "code",
        "colab": {}
      },
      "source": [
        "#import the library used to query a website\n",
        "import urllib2\n",
        "#import the Beautiful soup functions to parse the data returned from the website\n",
        "from bs4 import BeautifulSoup"
      ],
      "execution_count": 0,
      "outputs": []
    },
    {
      "cell_type": "code",
      "metadata": {
        "id": "vTk_suyyqYSn",
        "colab_type": "code",
        "colab": {}
      },
      "source": [
        "#specify the url\n",
        "wiki = \"https://play.google.com/store/apps/details?id=com.playense.spiderswingman\""
      ],
      "execution_count": 0,
      "outputs": []
    },
    {
      "cell_type": "code",
      "metadata": {
        "id": "vpoB7pxCqj3m",
        "colab_type": "code",
        "colab": {}
      },
      "source": [
        "#Query the website and return the html to the variable 'page'\n",
        "page = urllib2.urlopen(wiki)\n",
        "#Parse the html in the 'page' variable, and store it in Beautiful Soup format\n",
        "soup = BeautifulSoup(page)"
      ],
      "execution_count": 0,
      "outputs": []
    },
    {
      "cell_type": "code",
      "metadata": {
        "id": "5uiZvWczQn2i",
        "colab_type": "code",
        "outputId": "d8e79558-7bd3-41ca-f158-31e7733b8ef5",
        "colab": {
          "base_uri": "https://localhost:8080/",
          "height": 53
        }
      },
      "source": [
        "app_desc=soup.find('div',attrs={\"jsname\":\"sngebd\"}).text\n",
        "print app_desc"
      ],
      "execution_count": 4,
      "outputs": [
        {
          "output_type": "stream",
          "text": [
            "You will play as a super boy who has to swing with his web throughout the city. It is really fantastic to move across the city with his power. Become the most courageous and fearless swing man! To protect the city you have to look from the sky by swinging. So swing as much as you can with your rope!The more levels you complete the more coins you will be able to earn and customize your superhero.And if you do really well and able to finish every level, you will become an ultimate champion of the city!Swing Man Features:- Incredible super abilities- Fantastically enthralling gameplay- Check your super hero reflection with missile!- Collect coins and customize your spider boy!\n"
          ],
          "name": "stdout"
        }
      ]
    },
    {
      "cell_type": "code",
      "metadata": {
        "id": "GpKea4yPf3k6",
        "colab_type": "code",
        "colab": {}
      },
      "source": [
        "!pip install -U -q PyDrive\n",
        "from pydrive.auth import GoogleAuth\n",
        "from pydrive.drive import GoogleDrive\n",
        "from google.colab import auth\n",
        "from oauth2client.client import GoogleCredentials\n",
        "# Authenticate and create the PyDrive client.\n",
        "auth.authenticate_user()\n",
        "gauth = GoogleAuth()\n",
        "gauth.credentials = GoogleCredentials.get_application_default()\n",
        "drive = GoogleDrive(gauth)"
      ],
      "execution_count": 0,
      "outputs": []
    },
    {
      "cell_type": "code",
      "metadata": {
        "id": "mCn-8s24gZxp",
        "colab_type": "code",
        "outputId": "b9581789-f907-4045-87a3-69ebb106f044",
        "colab": {
          "base_uri": "https://localhost:8080/",
          "height": 33
        }
      },
      "source": [
        "link ='https://drive.google.com/open?id=1kKq8EZxMlFFRkBEEUDJMoOm8YybLEhXN'\n",
        "fluff, id = link.split('=')\n",
        "print (id)"
      ],
      "execution_count": 6,
      "outputs": [
        {
          "output_type": "stream",
          "text": [
            "1kKq8EZxMlFFRkBEEUDJMoOm8YybLEhXN\n"
          ],
          "name": "stdout"
        }
      ]
    },
    {
      "cell_type": "code",
      "metadata": {
        "id": "KT_ROQ4mggQC",
        "colab_type": "code",
        "outputId": "08e5ce50-475e-4f52-8cf3-7e7c26f8410b",
        "colab": {
          "base_uri": "https://localhost:8080/",
          "height": 432
        }
      },
      "source": [
        "import pandas as pd\n",
        "downloaded = drive.CreateFile({'id':id}) \n",
        "downloaded.GetContentFile('Applist.csv')  \n",
        "App_data_all = pd.read_csv('Applist.csv')\n",
        "App_data=App_data_all.head(10)\n",
        "App_data['App_Package_full']='https://play.google.com/store/apps/details?id='+App_data['App_Package'].astype(str)\n",
        "App_data.head(10)"
      ],
      "execution_count": 20,
      "outputs": [
        {
          "output_type": "stream",
          "text": [
            "/usr/local/lib/python2.7/dist-packages/ipykernel_launcher.py:6: SettingWithCopyWarning: \n",
            "A value is trying to be set on a copy of a slice from a DataFrame.\n",
            "Try using .loc[row_indexer,col_indexer] = value instead\n",
            "\n",
            "See the caveats in the documentation: http://pandas.pydata.org/pandas-docs/stable/indexing.html#indexing-view-versus-copy\n",
            "  \n"
          ],
          "name": "stderr"
        },
        {
          "output_type": "execute_result",
          "data": {
            "text/html": [
              "<div>\n",
              "<style scoped>\n",
              "    .dataframe tbody tr th:only-of-type {\n",
              "        vertical-align: middle;\n",
              "    }\n",
              "\n",
              "    .dataframe tbody tr th {\n",
              "        vertical-align: top;\n",
              "    }\n",
              "\n",
              "    .dataframe thead th {\n",
              "        text-align: right;\n",
              "    }\n",
              "</style>\n",
              "<table border=\"1\" class=\"dataframe\">\n",
              "  <thead>\n",
              "    <tr style=\"text-align: right;\">\n",
              "      <th></th>\n",
              "      <th>App_Package</th>\n",
              "      <th>App_Package_full</th>\n",
              "    </tr>\n",
              "  </thead>\n",
              "  <tbody>\n",
              "    <tr>\n",
              "      <th>0</th>\n",
              "      <td>com.UCMobile.intl</td>\n",
              "      <td>https://play.google.com/store/apps/details?id=...</td>\n",
              "    </tr>\n",
              "    <tr>\n",
              "      <th>1</th>\n",
              "      <td>com.shazam.android</td>\n",
              "      <td>https://play.google.com/store/apps/details?id=...</td>\n",
              "    </tr>\n",
              "    <tr>\n",
              "      <th>2</th>\n",
              "      <td>com.swingman.game</td>\n",
              "      <td>https://play.google.com/store/apps/details?id=...</td>\n",
              "    </tr>\n",
              "    <tr>\n",
              "      <th>3</th>\n",
              "      <td>com.billiards.city.pool.nation.club</td>\n",
              "      <td>https://play.google.com/store/apps/details?id=...</td>\n",
              "    </tr>\n",
              "    <tr>\n",
              "      <th>4</th>\n",
              "      <td>com.mi.global.shop</td>\n",
              "      <td>https://play.google.com/store/apps/details?id=...</td>\n",
              "    </tr>\n",
              "    <tr>\n",
              "      <th>5</th>\n",
              "      <td>net.froemling.bombsquad</td>\n",
              "      <td>https://play.google.com/store/apps/details?id=...</td>\n",
              "    </tr>\n",
              "    <tr>\n",
              "      <th>6</th>\n",
              "      <td>com.google.android.apps.magazines</td>\n",
              "      <td>https://play.google.com/store/apps/details?id=...</td>\n",
              "    </tr>\n",
              "    <tr>\n",
              "      <th>7</th>\n",
              "      <td>com.microsoft.office.word</td>\n",
              "      <td>https://play.google.com/store/apps/details?id=...</td>\n",
              "    </tr>\n",
              "    <tr>\n",
              "      <th>8</th>\n",
              "      <td>com.hegodev.learnsentance</td>\n",
              "      <td>https://play.google.com/store/apps/details?id=...</td>\n",
              "    </tr>\n",
              "    <tr>\n",
              "      <th>9</th>\n",
              "      <td>com.jio.media.ondemand</td>\n",
              "      <td>https://play.google.com/store/apps/details?id=...</td>\n",
              "    </tr>\n",
              "  </tbody>\n",
              "</table>\n",
              "</div>"
            ],
            "text/plain": [
              "                           App_Package                                   App_Package_full\n",
              "0                    com.UCMobile.intl  https://play.google.com/store/apps/details?id=...\n",
              "1                   com.shazam.android  https://play.google.com/store/apps/details?id=...\n",
              "2                    com.swingman.game  https://play.google.com/store/apps/details?id=...\n",
              "3  com.billiards.city.pool.nation.club  https://play.google.com/store/apps/details?id=...\n",
              "4                   com.mi.global.shop  https://play.google.com/store/apps/details?id=...\n",
              "5              net.froemling.bombsquad  https://play.google.com/store/apps/details?id=...\n",
              "6    com.google.android.apps.magazines  https://play.google.com/store/apps/details?id=...\n",
              "7            com.microsoft.office.word  https://play.google.com/store/apps/details?id=...\n",
              "8            com.hegodev.learnsentance  https://play.google.com/store/apps/details?id=...\n",
              "9               com.jio.media.ondemand  https://play.google.com/store/apps/details?id=..."
            ]
          },
          "metadata": {
            "tags": []
          },
          "execution_count": 20
        }
      ]
    },
    {
      "cell_type": "code",
      "metadata": {
        "id": "aXbCBGdngs5Z",
        "colab_type": "code",
        "colab": {
          "base_uri": "https://localhost:8080/",
          "height": 196
        },
        "outputId": "80e878a6-b76a-4e05-d8e6-1d8b60993a16"
      },
      "source": [
        "App_data['Description'] = None\n",
        "for index, row in App_data.iterrows():\n",
        "  pacakge_id=row[\"App_Package_full\"]\n",
        "  try:\n",
        "    page = urllib2.urlopen(pacakge_id)\n",
        "    soup = BeautifulSoup(page)\n",
        "    App_data['Description'].iloc[index]=soup.find('div',attrs={\"jsname\":\"sngebd\"}).text\n",
        "  except:\n",
        "    pass"
      ],
      "execution_count": 21,
      "outputs": [
        {
          "output_type": "stream",
          "text": [
            "/usr/local/lib/python2.7/dist-packages/ipykernel_launcher.py:1: SettingWithCopyWarning: \n",
            "A value is trying to be set on a copy of a slice from a DataFrame.\n",
            "Try using .loc[row_indexer,col_indexer] = value instead\n",
            "\n",
            "See the caveats in the documentation: http://pandas.pydata.org/pandas-docs/stable/indexing.html#indexing-view-versus-copy\n",
            "  \"\"\"Entry point for launching an IPython kernel.\n",
            "/usr/local/lib/python2.7/dist-packages/ipykernel_launcher.py:7: SettingWithCopyWarning: \n",
            "A value is trying to be set on a copy of a slice from a DataFrame\n",
            "\n",
            "See the caveats in the documentation: http://pandas.pydata.org/pandas-docs/stable/indexing.html#indexing-view-versus-copy\n",
            "  import sys\n"
          ],
          "name": "stderr"
        }
      ]
    },
    {
      "cell_type": "code",
      "metadata": {
        "id": "txrvbEceOk8R",
        "colab_type": "code",
        "colab": {
          "base_uri": "https://localhost:8080/",
          "height": 335
        },
        "outputId": "d57c9bbe-410a-4197-a0ea-e21aac092b41"
      },
      "source": [
        "App_data.drop('App_Package_full',axis=1)"
      ],
      "execution_count": 23,
      "outputs": [
        {
          "output_type": "execute_result",
          "data": {
            "text/html": [
              "<div>\n",
              "<style scoped>\n",
              "    .dataframe tbody tr th:only-of-type {\n",
              "        vertical-align: middle;\n",
              "    }\n",
              "\n",
              "    .dataframe tbody tr th {\n",
              "        vertical-align: top;\n",
              "    }\n",
              "\n",
              "    .dataframe thead th {\n",
              "        text-align: right;\n",
              "    }\n",
              "</style>\n",
              "<table border=\"1\" class=\"dataframe\">\n",
              "  <thead>\n",
              "    <tr style=\"text-align: right;\">\n",
              "      <th></th>\n",
              "      <th>App_Package</th>\n",
              "      <th>Description</th>\n",
              "    </tr>\n",
              "  </thead>\n",
              "  <tbody>\n",
              "    <tr>\n",
              "      <th>0</th>\n",
              "      <td>com.UCMobile.intl</td>\n",
              "      <td>UC Browser enables you to share hot memes and ...</td>\n",
              "    </tr>\n",
              "    <tr>\n",
              "      <th>1</th>\n",
              "      <td>com.shazam.android</td>\n",
              "      <td>Shazam is one of the worldâ€™s most popular ap...</td>\n",
              "    </tr>\n",
              "    <tr>\n",
              "      <th>2</th>\n",
              "      <td>com.swingman.game</td>\n",
              "      <td>Swing Star  is here!Catch, swing , glide, enjo...</td>\n",
              "    </tr>\n",
              "    <tr>\n",
              "      <th>3</th>\n",
              "      <td>com.billiards.city.pool.nation.club</td>\n",
              "      <td>None</td>\n",
              "    </tr>\n",
              "    <tr>\n",
              "      <th>4</th>\n",
              "      <td>com.mi.global.shop</td>\n",
              "      <td>Mi Store is Xiaomi’s official Android app to h...</td>\n",
              "    </tr>\n",
              "    <tr>\n",
              "      <th>5</th>\n",
              "      <td>net.froemling.bombsquad</td>\n",
              "      <td>Blow up your friends in mini-games ranging fro...</td>\n",
              "    </tr>\n",
              "    <tr>\n",
              "      <th>6</th>\n",
              "      <td>com.google.android.apps.magazines</td>\n",
              "      <td>None</td>\n",
              "    </tr>\n",
              "    <tr>\n",
              "      <th>7</th>\n",
              "      <td>com.microsoft.office.word</td>\n",
              "      <td>The Word app from Microsoft lets you create, e...</td>\n",
              "    </tr>\n",
              "    <tr>\n",
              "      <th>8</th>\n",
              "      <td>com.hegodev.learnsentance</td>\n",
              "      <td>Make Sentence: Learn various sentence types, I...</td>\n",
              "    </tr>\n",
              "    <tr>\n",
              "      <th>9</th>\n",
              "      <td>com.jio.media.ondemand</td>\n",
              "      <td>*Exclusively for Jio SIM Users*Your on-demand ...</td>\n",
              "    </tr>\n",
              "  </tbody>\n",
              "</table>\n",
              "</div>"
            ],
            "text/plain": [
              "                           App_Package                                        Description\n",
              "0                    com.UCMobile.intl  UC Browser enables you to share hot memes and ...\n",
              "1                   com.shazam.android  Shazam is one of the worldâ€™s most popular ap...\n",
              "2                    com.swingman.game  Swing Star  is here!Catch, swing , glide, enjo...\n",
              "3  com.billiards.city.pool.nation.club                                               None\n",
              "4                   com.mi.global.shop  Mi Store is Xiaomi’s official Android app to h...\n",
              "5              net.froemling.bombsquad  Blow up your friends in mini-games ranging fro...\n",
              "6    com.google.android.apps.magazines                                               None\n",
              "7            com.microsoft.office.word  The Word app from Microsoft lets you create, e...\n",
              "8            com.hegodev.learnsentance  Make Sentence: Learn various sentence types, I...\n",
              "9               com.jio.media.ondemand  *Exclusively for Jio SIM Users*Your on-demand ..."
            ]
          },
          "metadata": {
            "tags": []
          },
          "execution_count": 23
        }
      ]
    }
  ]
}