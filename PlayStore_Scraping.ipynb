{
  "nbformat": 4,
  "nbformat_minor": 0,
  "metadata": {
    "colab": {
      "name": "PlayStore_Scraping.ipynb",
      "version": "0.3.2",
      "provenance": [],
      "include_colab_link": true
    },
    "kernelspec": {
      "name": "python2",
      "display_name": "Python 2"
    },
    "accelerator": "GPU"
  },
  "cells": [
    {
      "cell_type": "markdown",
      "metadata": {
        "id": "view-in-github",
        "colab_type": "text"
      },
      "source": [
        "<a href=\"https://colab.research.google.com/github/ThejaswiniNayak/Recommenders/blob/master/PlayStore_Scraping.ipynb\" target=\"_parent\"><img src=\"https://colab.research.google.com/assets/colab-badge.svg\" alt=\"Open In Colab\"/></a>"
      ]
    },
    {
      "cell_type": "code",
      "metadata": {
        "id": "LUdeUvvTqRHq",
        "colab_type": "code",
        "colab": {}
      },
      "source": [
        "#import the library used to query a website\n",
        "import urllib2"
      ],
      "execution_count": 0,
      "outputs": []
    },
    {
      "cell_type": "code",
      "metadata": {
        "id": "vTk_suyyqYSn",
        "colab_type": "code",
        "colab": {}
      },
      "source": [
        "#specify the url\n",
        "wiki = \"https://play.google.com/store/apps/details?id=com.playense.spiderswingman\""
      ],
      "execution_count": 0,
      "outputs": []
    },
    {
      "cell_type": "code",
      "metadata": {
        "id": "vpoB7pxCqj3m",
        "colab_type": "code",
        "colab": {}
      },
      "source": [
        "#Query the website and return the html to the variable 'page'\n",
        "page = urllib2.urlopen(wiki)"
      ],
      "execution_count": 0,
      "outputs": []
    },
    {
      "cell_type": "code",
      "metadata": {
        "id": "ZCaRlxvUqrUn",
        "colab_type": "code",
        "colab": {}
      },
      "source": [
        "#import the Beautiful soup functions to parse the data returned from the website\n",
        "from bs4 import BeautifulSoup"
      ],
      "execution_count": 0,
      "outputs": []
    },
    {
      "cell_type": "code",
      "metadata": {
        "id": "XU3T_qSxqwq0",
        "colab_type": "code",
        "colab": {}
      },
      "source": [
        "#Parse the html in the 'page' variable, and store it in Beautiful Soup format\n",
        "soup = BeautifulSoup(page)"
      ],
      "execution_count": 0,
      "outputs": []
    },
    {
      "cell_type": "code",
      "metadata": {
        "id": "ahcOjXcVq6iU",
        "colab_type": "code",
        "colab": {}
      },
      "source": [
        "#print soup.prettify()"
      ],
      "execution_count": 0,
      "outputs": []
    },
    {
      "cell_type": "code",
      "metadata": {
        "id": "y5yjc6cFFJKt",
        "colab_type": "code",
        "outputId": "ea57d122-2b0f-4837-95d7-b92d719d5f48",
        "colab": {
          "base_uri": "https://localhost:8080/",
          "height": 34
        }
      },
      "source": [
        "name_box=soup.find('h1',attrs={\"class\":\"AHFaub\"}).find('span').text\n",
        "print name_box"
      ],
      "execution_count": 19,
      "outputs": [
        {
          "output_type": "stream",
          "text": [
            "Swing Man\n"
          ],
          "name": "stdout"
        }
      ]
    },
    {
      "cell_type": "code",
      "metadata": {
        "id": "s9cuGhYcNKmw",
        "colab_type": "code",
        "outputId": "ef0bd0ab-bc85-45ac-d683-7e46f0d4c52c",
        "colab": {
          "base_uri": "https://localhost:8080/",
          "height": 34
        }
      },
      "source": [
        "app_dev=soup.find('div',attrs={\"class\":\"qQKdcc\"}).find('span').find('a').text\n",
        "print app_dev"
      ],
      "execution_count": 20,
      "outputs": [
        {
          "output_type": "stream",
          "text": [
            "Playense\n"
          ],
          "name": "stdout"
        }
      ]
    },
    {
      "cell_type": "code",
      "metadata": {
        "id": "2kVKRCywNy-i",
        "colab_type": "code",
        "outputId": "780d3a5c-5ca6-4223-ba3e-ff6f61f78647",
        "colab": {
          "base_uri": "https://localhost:8080/",
          "height": 34
        }
      },
      "source": [
        "app_cat=soup.find('a',attrs={\"itemprop\":\"genre\"}).text\n",
        "print app_cat"
      ],
      "execution_count": 21,
      "outputs": [
        {
          "output_type": "stream",
          "text": [
            "Casual\n"
          ],
          "name": "stdout"
        }
      ]
    },
    {
      "cell_type": "code",
      "metadata": {
        "id": "5uiZvWczQn2i",
        "colab_type": "code",
        "outputId": "db46ac2e-2266-4258-e5e1-8dfe8826dcdf",
        "colab": {
          "base_uri": "https://localhost:8080/",
          "height": 54
        }
      },
      "source": [
        "app_desc=soup.find('div',attrs={\"jsname\":\"sngebd\"}).text\n",
        "print app_desc"
      ],
      "execution_count": 22,
      "outputs": [
        {
          "output_type": "stream",
          "text": [
            "You will play as a super boy who has to swing with his web throughout the city. It is really fantastic to move across the city with his power. Become the most courageous and fearless swing man! To protect the city you have to look from the sky by swinging. So swing as much as you can with your rope!The more levels you complete the more coins you will be able to earn and customize your superhero.And if you do really well and able to finish every level, you will become an ultimate champion of the city!Swing Man Features:- Incredible super abilities- Fantastically enthralling gameplay- Check your super hero reflection with missile!- Collect coins and customize your spider boy!\n"
          ],
          "name": "stdout"
        }
      ]
    },
    {
      "cell_type": "code",
      "metadata": {
        "id": "odpb5c84yLDr",
        "colab_type": "code",
        "colab": {}
      },
      "source": [
        "# Code to read csv file into Colaboratory:\n",
        "!pip install -U -q PyDrive\n",
        "from pydrive.auth import GoogleAuth\n",
        "from pydrive.drive import GoogleDrive\n",
        "from google.colab import auth\n",
        "from oauth2client.client import GoogleCredentials\n",
        "# Authenticate and create the PyDrive client.\n",
        "auth.authenticate_user()\n",
        "gauth = GoogleAuth()\n",
        "gauth.credentials = GoogleCredentials.get_application_default()\n",
        "drive = GoogleDrive(gauth)"
      ],
      "execution_count": 0,
      "outputs": []
    },
    {
      "cell_type": "code",
      "metadata": {
        "id": "qT8ICQPD0_53",
        "colab_type": "code",
        "colab": {
          "base_uri": "https://localhost:8080/",
          "height": 34
        },
        "outputId": "3c3684d9-774f-4a5a-8ec5-3ba66be6947c"
      },
      "source": [
        "link ='https://drive.google.com/open?id=1kKq8EZxMlFFRkBEEUDJMoOm8YybLEhXN'\n",
        "fluff, id = link.split('=')\n",
        "print (id) # Verify that you have everything after '='"
      ],
      "execution_count": 47,
      "outputs": [
        {
          "output_type": "stream",
          "text": [
            "1kKq8EZxMlFFRkBEEUDJMoOm8YybLEhXN\n"
          ],
          "name": "stdout"
        }
      ]
    },
    {
      "cell_type": "code",
      "metadata": {
        "id": "IuucxbeZ1aCu",
        "colab_type": "code",
        "colab": {}
      },
      "source": [
        "import pandas as pd\n",
        "downloaded = drive.CreateFile({'id':id}) \n",
        "downloaded.GetContentFile('Applist.csv')  \n",
        "df3 = pd.read_csv('Applist.csv')"
      ],
      "execution_count": 0,
      "outputs": []
    },
    {
      "cell_type": "code",
      "metadata": {
        "id": "a3EsdYFY1gqJ",
        "colab_type": "code",
        "colab": {
          "base_uri": "https://localhost:8080/",
          "height": 111
        },
        "outputId": "2a00f613-c58b-4ca6-fae4-b8ba9161d8de"
      },
      "source": [
        "df3.head(2)"
      ],
      "execution_count": 51,
      "outputs": [
        {
          "output_type": "execute_result",
          "data": {
            "text/html": [
              "<div>\n",
              "<style scoped>\n",
              "    .dataframe tbody tr th:only-of-type {\n",
              "        vertical-align: middle;\n",
              "    }\n",
              "\n",
              "    .dataframe tbody tr th {\n",
              "        vertical-align: top;\n",
              "    }\n",
              "\n",
              "    .dataframe thead th {\n",
              "        text-align: right;\n",
              "    }\n",
              "</style>\n",
              "<table border=\"1\" class=\"dataframe\">\n",
              "  <thead>\n",
              "    <tr style=\"text-align: right;\">\n",
              "      <th></th>\n",
              "      <th>App_Package</th>\n",
              "    </tr>\n",
              "  </thead>\n",
              "  <tbody>\n",
              "    <tr>\n",
              "      <th>0</th>\n",
              "      <td>com.UCMobile.intl</td>\n",
              "    </tr>\n",
              "    <tr>\n",
              "      <th>1</th>\n",
              "      <td>com.shazam.android</td>\n",
              "    </tr>\n",
              "  </tbody>\n",
              "</table>\n",
              "</div>"
            ],
            "text/plain": [
              "          App_Package\n",
              "0   com.UCMobile.intl\n",
              "1  com.shazam.android"
            ]
          },
          "metadata": {
            "tags": []
          },
          "execution_count": 51
        }
      ]
    }
  ]
}