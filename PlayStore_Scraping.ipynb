{
  "nbformat": 4,
  "nbformat_minor": 0,
  "metadata": {
    "colab": {
      "name": "PlayStore_Scraping.ipynb",
      "version": "0.3.2",
      "provenance": [],
      "include_colab_link": true
    },
    "kernelspec": {
      "name": "python2",
      "display_name": "Python 2"
    },
    "accelerator": "GPU"
  },
  "cells": [
    {
      "cell_type": "markdown",
      "metadata": {
        "id": "view-in-github",
        "colab_type": "text"
      },
      "source": [
        "<a href=\"https://colab.research.google.com/github/ThejaswiniNayak/Recommenders/blob/master/PlayStore_Scraping.ipynb\" target=\"_parent\"><img src=\"https://colab.research.google.com/assets/colab-badge.svg\" alt=\"Open In Colab\"/></a>"
      ]
    },
    {
      "cell_type": "code",
      "metadata": {
        "id": "LUdeUvvTqRHq",
        "colab_type": "code",
        "colab": {}
      },
      "source": [
        "#import the library used to query a website\n",
        "import urllib2"
      ],
      "execution_count": 0,
      "outputs": []
    },
    {
      "cell_type": "code",
      "metadata": {
        "id": "odpb5c84yLDr",
        "colab_type": "code",
        "colab": {}
      },
      "source": [
        "# Code to read csv file into Colaboratory:\n",
        "!pip install -U -q PyDrive\n",
        "from pydrive.auth import GoogleAuth\n",
        "from pydrive.drive import GoogleDrive\n",
        "from google.colab import auth\n",
        "from oauth2client.client import GoogleCredentials\n",
        "# Authenticate and create the PyDrive client.\n",
        "auth.authenticate_user()\n",
        "gauth = GoogleAuth()\n",
        "gauth.credentials = GoogleCredentials.get_application_default()\n",
        "drive = GoogleDrive(gauth)"
      ],
      "execution_count": 0,
      "outputs": []
    },
    {
      "cell_type": "code",
      "metadata": {
        "id": "qT8ICQPD0_53",
        "colab_type": "code",
        "colab": {
          "base_uri": "https://localhost:8080/",
          "height": 33
        },
        "outputId": "0538cde7-3d20-46e4-9bb6-7cd2c085ebd6"
      },
      "source": [
        "link ='https://drive.google.com/open?id=1kKq8EZxMlFFRkBEEUDJMoOm8YybLEhXN'\n",
        "fluff, id = link.split('=')\n",
        "print (id) # Verify that you have everything after '='"
      ],
      "execution_count": 215,
      "outputs": [
        {
          "output_type": "stream",
          "text": [
            "1kKq8EZxMlFFRkBEEUDJMoOm8YybLEhXN\n"
          ],
          "name": "stdout"
        }
      ]
    },
    {
      "cell_type": "code",
      "metadata": {
        "id": "IuucxbeZ1aCu",
        "colab_type": "code",
        "colab": {}
      },
      "source": [
        "import pandas as pd\n",
        "downloaded = drive.CreateFile({'id':id}) \n",
        "downloaded.GetContentFile('Applist.csv')  \n",
        "App_data = pd.read_csv('Applist.csv')"
      ],
      "execution_count": 0,
      "outputs": []
    },
    {
      "cell_type": "code",
      "metadata": {
        "id": "Kk1ITd63zCPg",
        "colab_type": "code",
        "colab": {
          "base_uri": "https://localhost:8080/",
          "height": 310
        },
        "outputId": "fe54121f-fbc0-4358-e8e7-4701a5f4b399"
      },
      "source": [
        "!pip install play-scraper\n",
        "import play_scraper"
      ],
      "execution_count": 219,
      "outputs": [
        {
          "output_type": "stream",
          "text": [
            "Requirement already satisfied: play-scraper in /usr/local/lib/python2.7/dist-packages (0.5.5)\n",
            "Requirement already satisfied: beautifulsoup4>=4.6.1 in /usr/local/lib/python2.7/dist-packages (from play-scraper) (4.6.3)\n",
            "Requirement already satisfied: requests[security]>=2.20.0 in /usr/local/lib/python2.7/dist-packages (from play-scraper) (2.21.0)\n",
            "Requirement already satisfied: lxml>=4.2.4 in /usr/local/lib/python2.7/dist-packages (from play-scraper) (4.2.6)\n",
            "Requirement already satisfied: requests-futures>=0.9.7 in /usr/local/lib/python2.7/dist-packages (from play-scraper) (0.9.9)\n",
            "Requirement already satisfied: urllib3<1.25,>=1.21.1 in /usr/local/lib/python2.7/dist-packages (from requests[security]>=2.20.0->play-scraper) (1.24.3)\n",
            "Requirement already satisfied: certifi>=2017.4.17 in /usr/local/lib/python2.7/dist-packages (from requests[security]>=2.20.0->play-scraper) (2019.3.9)\n",
            "Requirement already satisfied: chardet<3.1.0,>=3.0.2 in /usr/local/lib/python2.7/dist-packages (from requests[security]>=2.20.0->play-scraper) (3.0.4)\n",
            "Requirement already satisfied: idna<2.9,>=2.5 in /usr/local/lib/python2.7/dist-packages (from requests[security]>=2.20.0->play-scraper) (2.8)\n",
            "Requirement already satisfied: cryptography>=1.3.4; extra == \"security\" in /usr/local/lib/python2.7/dist-packages (from requests[security]>=2.20.0->play-scraper) (2.6.1)\n",
            "Requirement already satisfied: pyOpenSSL>=0.14; extra == \"security\" in /usr/local/lib/python2.7/dist-packages (from requests[security]>=2.20.0->play-scraper) (19.0.0)\n",
            "Requirement already satisfied: futures>=2.1.3 in /usr/local/lib/python2.7/dist-packages (from requests-futures>=0.9.7->play-scraper) (3.2.0)\n",
            "Requirement already satisfied: asn1crypto>=0.21.0 in /usr/local/lib/python2.7/dist-packages (from cryptography>=1.3.4; extra == \"security\"->requests[security]>=2.20.0->play-scraper) (0.24.0)\n",
            "Requirement already satisfied: enum34; python_version < \"3\" in /usr/local/lib/python2.7/dist-packages (from cryptography>=1.3.4; extra == \"security\"->requests[security]>=2.20.0->play-scraper) (1.1.6)\n",
            "Requirement already satisfied: ipaddress; python_version < \"3\" in /usr/local/lib/python2.7/dist-packages (from cryptography>=1.3.4; extra == \"security\"->requests[security]>=2.20.0->play-scraper) (1.0.22)\n",
            "Requirement already satisfied: cffi!=1.11.3,>=1.8 in /usr/local/lib/python2.7/dist-packages (from cryptography>=1.3.4; extra == \"security\"->requests[security]>=2.20.0->play-scraper) (1.12.3)\n",
            "Requirement already satisfied: six>=1.4.1 in /usr/local/lib/python2.7/dist-packages (from cryptography>=1.3.4; extra == \"security\"->requests[security]>=2.20.0->play-scraper) (1.12.0)\n",
            "Requirement already satisfied: pycparser in /usr/local/lib/python2.7/dist-packages (from cffi!=1.11.3,>=1.8->cryptography>=1.3.4; extra == \"security\"->requests[security]>=2.20.0->play-scraper) (2.19)\n"
          ],
          "name": "stdout"
        }
      ]
    },
    {
      "cell_type": "code",
      "metadata": {
        "id": "ZMovLzghBauM",
        "colab_type": "code",
        "colab": {
          "base_uri": "https://localhost:8080/",
          "height": 76
        },
        "outputId": "f8faf4a5-ccac-42e2-8cdf-c21be5b2ed49"
      },
      "source": [
        "data=play_scraper.details('com.billiards.city.pool.nation.club')\n",
        "all_dataframe=pd.DataFrame.from_dict(data,orient='index').T\n",
        "Req_data=all_dataframe[['app_id','title','category','developer']]\n",
        "Req_data"
      ],
      "execution_count": 220,
      "outputs": [
        {
          "output_type": "execute_result",
          "data": {
            "text/html": [
              "<div>\n",
              "<style scoped>\n",
              "    .dataframe tbody tr th:only-of-type {\n",
              "        vertical-align: middle;\n",
              "    }\n",
              "\n",
              "    .dataframe tbody tr th {\n",
              "        vertical-align: top;\n",
              "    }\n",
              "\n",
              "    .dataframe thead th {\n",
              "        text-align: right;\n",
              "    }\n",
              "</style>\n",
              "<table border=\"1\" class=\"dataframe\">\n",
              "  <thead>\n",
              "    <tr style=\"text-align: right;\">\n",
              "      <th></th>\n",
              "      <th>app_id</th>\n",
              "      <th>title</th>\n",
              "      <th>category</th>\n",
              "      <th>developer</th>\n",
              "    </tr>\n",
              "  </thead>\n",
              "  <tbody>\n",
              "    <tr>\n",
              "      <th>0</th>\n",
              "      <td>com.billiards.city.pool.nation.club</td>\n",
              "      <td>Pooking - Billiards City</td>\n",
              "      <td>[GAME_SPORTS]</td>\n",
              "      <td>MOUNTAIN GAME</td>\n",
              "    </tr>\n",
              "  </tbody>\n",
              "</table>\n",
              "</div>"
            ],
            "text/plain": [
              "                                app_id                     title  \\\n",
              "0  com.billiards.city.pool.nation.club  Pooking - Billiards City   \n",
              "\n",
              "        category      developer  \n",
              "0  [GAME_SPORTS]  MOUNTAIN GAME  "
            ]
          },
          "metadata": {
            "tags": []
          },
          "execution_count": 220
        }
      ]
    },
    {
      "cell_type": "code",
      "metadata": {
        "id": "CdQf_08_PbO6",
        "colab_type": "code",
        "colab": {
          "base_uri": "https://localhost:8080/",
          "height": 76
        },
        "outputId": "5f440b0e-5e9c-4653-bb14-4bb31e3285bc"
      },
      "source": [
        "data=play_scraper.details('com.hegodev.learnsentance')\n",
        "all_dataframe=pd.DataFrame.from_dict(data,orient='index').T\n",
        "Req_data1=all_dataframe[['app_id','title','category','developer']]\n",
        "Req_data1"
      ],
      "execution_count": 221,
      "outputs": [
        {
          "output_type": "execute_result",
          "data": {
            "text/html": [
              "<div>\n",
              "<style scoped>\n",
              "    .dataframe tbody tr th:only-of-type {\n",
              "        vertical-align: middle;\n",
              "    }\n",
              "\n",
              "    .dataframe tbody tr th {\n",
              "        vertical-align: top;\n",
              "    }\n",
              "\n",
              "    .dataframe thead th {\n",
              "        text-align: right;\n",
              "    }\n",
              "</style>\n",
              "<table border=\"1\" class=\"dataframe\">\n",
              "  <thead>\n",
              "    <tr style=\"text-align: right;\">\n",
              "      <th></th>\n",
              "      <th>app_id</th>\n",
              "      <th>title</th>\n",
              "      <th>category</th>\n",
              "      <th>developer</th>\n",
              "    </tr>\n",
              "  </thead>\n",
              "  <tbody>\n",
              "    <tr>\n",
              "      <th>0</th>\n",
              "      <td>com.hegodev.learnsentance</td>\n",
              "      <td>Make Sentence for Kids</td>\n",
              "      <td>[EDUCATION]</td>\n",
              "      <td>HeGoDev</td>\n",
              "    </tr>\n",
              "  </tbody>\n",
              "</table>\n",
              "</div>"
            ],
            "text/plain": [
              "                      app_id                   title     category developer\n",
              "0  com.hegodev.learnsentance  Make Sentence for Kids  [EDUCATION]   HeGoDev"
            ]
          },
          "metadata": {
            "tags": []
          },
          "execution_count": 221
        }
      ]
    },
    {
      "cell_type": "code",
      "metadata": {
        "id": "eZNmfolizXA_",
        "colab_type": "code",
        "colab": {}
      },
      "source": [
        "=App_data['App_Package'].\n",
        "\n",
        "\n",
        "data=play_scraper.details('com.hegodev.learnsentance')\n",
        "all_dataframe=pd.DataFrame.from_dict(data,orient='index').T\n",
        "Req_data1=all_dataframe[['app_id','title','category','developer']]\n",
        "Req_data2"
      ],
      "execution_count": 0,
      "outputs": []
    },
    {
      "cell_type": "code",
      "metadata": {
        "id": "FakxCSVZ037r",
        "colab_type": "code",
        "colab": {}
      },
      "source": [
        "union_data = pd.DataFrame(columns=['app_id','title','category','developer'])\n",
        "for index, row in App_data.iterrows():\n",
        "  pacakge_id=row[\"App_Package\"]\n",
        "  try:\n",
        "    data=play_scraper.details(pacakge_id)\n",
        "    all_dataframe=pd.DataFrame.from_dict(data,orient='index').T\n",
        "    Req_data1=all_dataframe[['app_id','title','category','developer']]\n",
        "    Req_data=pd.concat([Req_data1,union_data],ignore_index=True)\n",
        "    union_data=Req_data\n",
        "  except:\n",
        "    pass"
      ],
      "execution_count": 0,
      "outputs": []
    },
    {
      "cell_type": "code",
      "metadata": {
        "id": "jHCzuicoilHL",
        "colab_type": "code",
        "colab": {
          "base_uri": "https://localhost:8080/",
          "height": 737
        },
        "outputId": "d11b9ca7-b5f5-4433-821a-4167d061775f"
      },
      "source": [
        "union_data"
      ],
      "execution_count": 237,
      "outputs": [
        {
          "output_type": "execute_result",
          "data": {
            "text/html": [
              "<div>\n",
              "<style scoped>\n",
              "    .dataframe tbody tr th:only-of-type {\n",
              "        vertical-align: middle;\n",
              "    }\n",
              "\n",
              "    .dataframe tbody tr th {\n",
              "        vertical-align: top;\n",
              "    }\n",
              "\n",
              "    .dataframe thead th {\n",
              "        text-align: right;\n",
              "    }\n",
              "</style>\n",
              "<table border=\"1\" class=\"dataframe\">\n",
              "  <thead>\n",
              "    <tr style=\"text-align: right;\">\n",
              "      <th></th>\n",
              "      <th>app_id</th>\n",
              "      <th>title</th>\n",
              "      <th>category</th>\n",
              "      <th>developer</th>\n",
              "    </tr>\n",
              "  </thead>\n",
              "  <tbody>\n",
              "    <tr>\n",
              "      <th>0</th>\n",
              "      <td>com.gmixon.quicksat</td>\n",
              "      <td>QuickSat</td>\n",
              "      <td>[TOOLS]</td>\n",
              "      <td>SECOM - GMixon - Pixeliris</td>\n",
              "    </tr>\n",
              "    <tr>\n",
              "      <th>1</th>\n",
              "      <td>com.whatsapp</td>\n",
              "      <td>WhatsApp Messenger</td>\n",
              "      <td>[COMMUNICATION]</td>\n",
              "      <td>WhatsApp Inc.</td>\n",
              "    </tr>\n",
              "    <tr>\n",
              "      <th>2</th>\n",
              "      <td>com.highsecure.lockscreenpasscode</td>\n",
              "      <td>Lock Screen</td>\n",
              "      <td>[TOOLS]</td>\n",
              "      <td>highsecure</td>\n",
              "    </tr>\n",
              "    <tr>\n",
              "      <th>3</th>\n",
              "      <td>com.threed.battleground.fire.survival.strike.s...</td>\n",
              "      <td>Legend Fire : Battleground Shooting Game</td>\n",
              "      <td>[COMICS]</td>\n",
              "      <td>3Dee Space</td>\n",
              "    </tr>\n",
              "    <tr>\n",
              "      <th>4</th>\n",
              "      <td>com.fsp.android.phonetracker</td>\n",
              "      <td>Find My Phone</td>\n",
              "      <td>[TOOLS]</td>\n",
              "      <td>Family Safety Production</td>\n",
              "    </tr>\n",
              "    <tr>\n",
              "      <th>5</th>\n",
              "      <td>com.truecaller</td>\n",
              "      <td>Truecaller: Caller ID, spam blocking &amp; call re...</td>\n",
              "      <td>[COMMUNICATION]</td>\n",
              "      <td>True Software Scandinavia AB</td>\n",
              "    </tr>\n",
              "    <tr>\n",
              "      <th>6</th>\n",
              "      <td>com.bhoomiapps.shayariinhindinew</td>\n",
              "      <td>Shayari in Hindi - Images and Text</td>\n",
              "      <td>[BOOKS_AND_REFERENCE]</td>\n",
              "      <td>BhoomiApps</td>\n",
              "    </tr>\n",
              "    <tr>\n",
              "      <th>7</th>\n",
              "      <td>com.happylabs.hotelstory</td>\n",
              "      <td>Hotel Story: Resort Simulation</td>\n",
              "      <td>[GAME_SIMULATION]</td>\n",
              "      <td>Happy Labs</td>\n",
              "    </tr>\n",
              "    <tr>\n",
              "      <th>8</th>\n",
              "      <td>com.twitter.android.lite</td>\n",
              "      <td>Twitter Lite</td>\n",
              "      <td>[NEWS_AND_MAGAZINES]</td>\n",
              "      <td>Twitter, Inc.</td>\n",
              "    </tr>\n",
              "    <tr>\n",
              "      <th>9</th>\n",
              "      <td>com.xfx.surfvpn</td>\n",
              "      <td>Surf VPN - Best Free Unlimited Proxy</td>\n",
              "      <td>[TOOLS]</td>\n",
              "      <td>XSoft inc</td>\n",
              "    </tr>\n",
              "    <tr>\n",
              "      <th>10</th>\n",
              "      <td>com.gktoday.currentaffairs</td>\n",
              "      <td>GKToday - Current Affairs &amp; GK</td>\n",
              "      <td>[EDUCATION]</td>\n",
              "      <td>GKToday</td>\n",
              "    </tr>\n",
              "    <tr>\n",
              "      <th>11</th>\n",
              "      <td>com.facebook.katana</td>\n",
              "      <td>Facebook</td>\n",
              "      <td>[SOCIAL]</td>\n",
              "      <td>Facebook</td>\n",
              "    </tr>\n",
              "    <tr>\n",
              "      <th>12</th>\n",
              "      <td>com.herocraft.game.birdsonwire.freemium</td>\n",
              "      <td>Birds On A Wire: Free Match 3</td>\n",
              "      <td>[GAME_PUZZLE]</td>\n",
              "      <td>HeroCraft Labs</td>\n",
              "    </tr>\n",
              "    <tr>\n",
              "      <th>13</th>\n",
              "      <td>com.sbi.SBIFreedomPlus</td>\n",
              "      <td>SBI Anywhere Personal - Yono Lite : Mobile Ban...</td>\n",
              "      <td>[FINANCE]</td>\n",
              "      <td>State Bank of India</td>\n",
              "    </tr>\n",
              "    <tr>\n",
              "      <th>14</th>\n",
              "      <td>com.jio.media.ondemand</td>\n",
              "      <td>JioCinema: Movies TV Originals</td>\n",
              "      <td>[ENTERTAINMENT]</td>\n",
              "      <td>Reliance Industries Ltd.</td>\n",
              "    </tr>\n",
              "    <tr>\n",
              "      <th>15</th>\n",
              "      <td>com.hegodev.learnsentance</td>\n",
              "      <td>Make Sentence for Kids</td>\n",
              "      <td>[EDUCATION]</td>\n",
              "      <td>HeGoDev</td>\n",
              "    </tr>\n",
              "    <tr>\n",
              "      <th>16</th>\n",
              "      <td>com.microsoft.office.word</td>\n",
              "      <td>Microsoft Word: Write, Edit &amp; Share Docs on th...</td>\n",
              "      <td>[PRODUCTIVITY]</td>\n",
              "      <td>Microsoft Corporation</td>\n",
              "    </tr>\n",
              "    <tr>\n",
              "      <th>17</th>\n",
              "      <td>com.google.android.apps.magazines</td>\n",
              "      <td>Google News</td>\n",
              "      <td>[NEWS_AND_MAGAZINES]</td>\n",
              "      <td>Google LLC</td>\n",
              "    </tr>\n",
              "    <tr>\n",
              "      <th>18</th>\n",
              "      <td>net.froemling.bombsquad</td>\n",
              "      <td>BombSquad</td>\n",
              "      <td>[GAME_ACTION]</td>\n",
              "      <td>Eric Froemling</td>\n",
              "    </tr>\n",
              "    <tr>\n",
              "      <th>19</th>\n",
              "      <td>com.mi.global.shop</td>\n",
              "      <td>Mi Store</td>\n",
              "      <td>[SHOPPING]</td>\n",
              "      <td>Xiaomi</td>\n",
              "    </tr>\n",
              "    <tr>\n",
              "      <th>20</th>\n",
              "      <td>com.billiards.city.pool.nation.club</td>\n",
              "      <td>Pooking - Billiards City</td>\n",
              "      <td>[GAME_SPORTS]</td>\n",
              "      <td>MOUNTAIN GAME</td>\n",
              "    </tr>\n",
              "    <tr>\n",
              "      <th>21</th>\n",
              "      <td>com.swingman.game</td>\n",
              "      <td>Swing Star</td>\n",
              "      <td>[GAME_ACTION]</td>\n",
              "      <td>Good Job Games</td>\n",
              "    </tr>\n",
              "    <tr>\n",
              "      <th>22</th>\n",
              "      <td>com.shazam.android</td>\n",
              "      <td>Shazam</td>\n",
              "      <td>[MUSIC_AND_AUDIO]</td>\n",
              "      <td>Apple, Inc.</td>\n",
              "    </tr>\n",
              "    <tr>\n",
              "      <th>23</th>\n",
              "      <td>com.UCMobile.intl</td>\n",
              "      <td>UC Browser – Video Downloader, Watch Video Off...</td>\n",
              "      <td>[COMMUNICATION]</td>\n",
              "      <td>UCWeb Inc.</td>\n",
              "    </tr>\n",
              "  </tbody>\n",
              "</table>\n",
              "</div>"
            ],
            "text/plain": [
              "                                               app_id  \\\n",
              "0                                 com.gmixon.quicksat   \n",
              "1                                        com.whatsapp   \n",
              "2                   com.highsecure.lockscreenpasscode   \n",
              "3   com.threed.battleground.fire.survival.strike.s...   \n",
              "4                        com.fsp.android.phonetracker   \n",
              "5                                      com.truecaller   \n",
              "6                    com.bhoomiapps.shayariinhindinew   \n",
              "7                            com.happylabs.hotelstory   \n",
              "8                            com.twitter.android.lite   \n",
              "9                                     com.xfx.surfvpn   \n",
              "10                         com.gktoday.currentaffairs   \n",
              "11                                com.facebook.katana   \n",
              "12            com.herocraft.game.birdsonwire.freemium   \n",
              "13                             com.sbi.SBIFreedomPlus   \n",
              "14                             com.jio.media.ondemand   \n",
              "15                          com.hegodev.learnsentance   \n",
              "16                          com.microsoft.office.word   \n",
              "17                  com.google.android.apps.magazines   \n",
              "18                            net.froemling.bombsquad   \n",
              "19                                 com.mi.global.shop   \n",
              "20                com.billiards.city.pool.nation.club   \n",
              "21                                  com.swingman.game   \n",
              "22                                 com.shazam.android   \n",
              "23                                  com.UCMobile.intl   \n",
              "\n",
              "                                                title               category  \\\n",
              "0                                            QuickSat                [TOOLS]   \n",
              "1                                  WhatsApp Messenger        [COMMUNICATION]   \n",
              "2                                         Lock Screen                [TOOLS]   \n",
              "3            Legend Fire : Battleground Shooting Game               [COMICS]   \n",
              "4                                       Find My Phone                [TOOLS]   \n",
              "5   Truecaller: Caller ID, spam blocking & call re...        [COMMUNICATION]   \n",
              "6                  Shayari in Hindi - Images and Text  [BOOKS_AND_REFERENCE]   \n",
              "7                      Hotel Story: Resort Simulation      [GAME_SIMULATION]   \n",
              "8                                        Twitter Lite   [NEWS_AND_MAGAZINES]   \n",
              "9                Surf VPN - Best Free Unlimited Proxy                [TOOLS]   \n",
              "10                     GKToday - Current Affairs & GK            [EDUCATION]   \n",
              "11                                           Facebook               [SOCIAL]   \n",
              "12                      Birds On A Wire: Free Match 3          [GAME_PUZZLE]   \n",
              "13  SBI Anywhere Personal - Yono Lite : Mobile Ban...              [FINANCE]   \n",
              "14                     JioCinema: Movies TV Originals        [ENTERTAINMENT]   \n",
              "15                             Make Sentence for Kids            [EDUCATION]   \n",
              "16  Microsoft Word: Write, Edit & Share Docs on th...         [PRODUCTIVITY]   \n",
              "17                                        Google News   [NEWS_AND_MAGAZINES]   \n",
              "18                                          BombSquad          [GAME_ACTION]   \n",
              "19                                           Mi Store             [SHOPPING]   \n",
              "20                           Pooking - Billiards City          [GAME_SPORTS]   \n",
              "21                                         Swing Star          [GAME_ACTION]   \n",
              "22                                             Shazam      [MUSIC_AND_AUDIO]   \n",
              "23  UC Browser – Video Downloader, Watch Video Off...        [COMMUNICATION]   \n",
              "\n",
              "                       developer  \n",
              "0     SECOM - GMixon - Pixeliris  \n",
              "1                  WhatsApp Inc.  \n",
              "2                     highsecure  \n",
              "3                     3Dee Space  \n",
              "4       Family Safety Production  \n",
              "5   True Software Scandinavia AB  \n",
              "6                     BhoomiApps  \n",
              "7                     Happy Labs  \n",
              "8                  Twitter, Inc.  \n",
              "9                      XSoft inc  \n",
              "10                       GKToday  \n",
              "11                      Facebook  \n",
              "12                HeroCraft Labs  \n",
              "13           State Bank of India  \n",
              "14      Reliance Industries Ltd.  \n",
              "15                       HeGoDev  \n",
              "16         Microsoft Corporation  \n",
              "17                    Google LLC  \n",
              "18                Eric Froemling  \n",
              "19                        Xiaomi  \n",
              "20                 MOUNTAIN GAME  \n",
              "21                Good Job Games  \n",
              "22                   Apple, Inc.  \n",
              "23                    UCWeb Inc.  "
            ]
          },
          "metadata": {
            "tags": []
          },
          "execution_count": 237
        }
      ]
    },
    {
      "cell_type": "code",
      "metadata": {
        "id": "wYHJBkAvBgQe",
        "colab_type": "code",
        "colab": {
          "base_uri": "https://localhost:8080/",
          "height": 33
        },
        "outputId": "b21676ac-3204-4e76-fddb-09bec6a69160"
      },
      "source": [
        "app_owner"
      ],
      "execution_count": 76,
      "outputs": [
        {
          "output_type": "execute_result",
          "data": {
            "text/plain": [
              "[u'UCWeb Inc.', u'Apple, Inc.', u'Good Job Games']"
            ]
          },
          "metadata": {
            "tags": []
          },
          "execution_count": 76
        }
      ]
    },
    {
      "cell_type": "code",
      "metadata": {
        "id": "pkmApqGmB7Fq",
        "colab_type": "code",
        "colab": {
          "base_uri": "https://localhost:8080/",
          "height": 296
        },
        "outputId": "5d5ba8ef-10a6-4ed6-b3d3-0ea87fe0dcf2"
      },
      "source": [
        "test_df = pd.DataFrame({'app_name': app_name,\n",
        "'app_owner': app_owner,\n",
        "'app_category': app_category,\n",
        "'app_description': app_description\n",
        "})\n",
        "print(test_df.info())\n",
        "test_df"
      ],
      "execution_count": 78,
      "outputs": [
        {
          "output_type": "stream",
          "text": [
            "<class 'pandas.core.frame.DataFrame'>\n",
            "RangeIndex: 3 entries, 0 to 2\n",
            "Data columns (total 4 columns):\n",
            "app_category       3 non-null object\n",
            "app_description    3 non-null object\n",
            "app_name           3 non-null object\n",
            "app_owner          3 non-null object\n",
            "dtypes: object(4)\n",
            "memory usage: 168.0+ bytes\n",
            "None\n"
          ],
          "name": "stdout"
        },
        {
          "output_type": "execute_result",
          "data": {
            "text/html": [
              "<div>\n",
              "<style scoped>\n",
              "    .dataframe tbody tr th:only-of-type {\n",
              "        vertical-align: middle;\n",
              "    }\n",
              "\n",
              "    .dataframe tbody tr th {\n",
              "        vertical-align: top;\n",
              "    }\n",
              "\n",
              "    .dataframe thead th {\n",
              "        text-align: right;\n",
              "    }\n",
              "</style>\n",
              "<table border=\"1\" class=\"dataframe\">\n",
              "  <thead>\n",
              "    <tr style=\"text-align: right;\">\n",
              "      <th></th>\n",
              "      <th>app_category</th>\n",
              "      <th>app_description</th>\n",
              "      <th>app_name</th>\n",
              "      <th>app_owner</th>\n",
              "    </tr>\n",
              "  </thead>\n",
              "  <tbody>\n",
              "    <tr>\n",
              "      <th>0</th>\n",
              "      <td>Communication</td>\n",
              "      <td>UC Browser enables you to share hot memes and ...</td>\n",
              "      <td>UC Browser – Video Downloader, Watch Video Off...</td>\n",
              "      <td>UCWeb Inc.</td>\n",
              "    </tr>\n",
              "    <tr>\n",
              "      <th>1</th>\n",
              "      <td>Music &amp; Audio</td>\n",
              "      <td>Shazam is one of the worldâ€™s most popular ap...</td>\n",
              "      <td>Shazam</td>\n",
              "      <td>Apple, Inc.</td>\n",
              "    </tr>\n",
              "    <tr>\n",
              "      <th>2</th>\n",
              "      <td>Action</td>\n",
              "      <td>Swing Star  is here!Catch, swing , glide, enjo...</td>\n",
              "      <td>Swing Star</td>\n",
              "      <td>Good Job Games</td>\n",
              "    </tr>\n",
              "  </tbody>\n",
              "</table>\n",
              "</div>"
            ],
            "text/plain": [
              "    app_category                                    app_description  \\\n",
              "0  Communication  UC Browser enables you to share hot memes and ...   \n",
              "1  Music & Audio  Shazam is one of the worldâ€™s most popular ap...   \n",
              "2         Action  Swing Star  is here!Catch, swing , glide, enjo...   \n",
              "\n",
              "                                            app_name       app_owner  \n",
              "0  UC Browser – Video Downloader, Watch Video Off...      UCWeb Inc.  \n",
              "1                                             Shazam     Apple, Inc.  \n",
              "2                                         Swing Star  Good Job Games  "
            ]
          },
          "metadata": {
            "tags": []
          },
          "execution_count": 78
        }
      ]
    }
  ]
}