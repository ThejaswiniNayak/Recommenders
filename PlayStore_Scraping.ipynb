{
  "nbformat": 4,
  "nbformat_minor": 0,
  "metadata": {
    "colab": {
      "name": "PlayStore_Scraping.ipynb",
      "version": "0.3.2",
      "provenance": [],
      "include_colab_link": true
    },
    "kernelspec": {
      "name": "python2",
      "display_name": "Python 2"
    },
    "accelerator": "GPU"
  },
  "cells": [
    {
      "cell_type": "markdown",
      "metadata": {
        "id": "view-in-github",
        "colab_type": "text"
      },
      "source": [
        "<a href=\"https://colab.research.google.com/github/ThejaswiniNayak/Recommenders/blob/master/PlayStore_Scraping.ipynb\" target=\"_parent\"><img src=\"https://colab.research.google.com/assets/colab-badge.svg\" alt=\"Open In Colab\"/></a>"
      ]
    },
    {
      "cell_type": "code",
      "metadata": {
        "id": "LUdeUvvTqRHq",
        "colab_type": "code",
        "colab": {}
      },
      "source": [
        "#import the library used to query a website\n",
        "import urllib2"
      ],
      "execution_count": 0,
      "outputs": []
    },
    {
      "cell_type": "code",
      "metadata": {
        "id": "vTk_suyyqYSn",
        "colab_type": "code",
        "colab": {}
      },
      "source": [
        "#specify the url\n",
        "wiki = \"https://play.google.com/store/apps/details?id=com.playense.spiderswingman\""
      ],
      "execution_count": 0,
      "outputs": []
    },
    {
      "cell_type": "code",
      "metadata": {
        "id": "vpoB7pxCqj3m",
        "colab_type": "code",
        "colab": {}
      },
      "source": [
        "#Query the website and return the html to the variable 'page'\n",
        "page = urllib2.urlopen(wiki)"
      ],
      "execution_count": 0,
      "outputs": []
    },
    {
      "cell_type": "code",
      "metadata": {
        "id": "ZCaRlxvUqrUn",
        "colab_type": "code",
        "colab": {}
      },
      "source": [
        "#import the Beautiful soup functions to parse the data returned from the website\n",
        "from bs4 import BeautifulSoup"
      ],
      "execution_count": 0,
      "outputs": []
    },
    {
      "cell_type": "code",
      "metadata": {
        "id": "XU3T_qSxqwq0",
        "colab_type": "code",
        "colab": {}
      },
      "source": [
        "#Parse the html in the 'page' variable, and store it in Beautiful Soup format\n",
        "soup = BeautifulSoup(page)"
      ],
      "execution_count": 0,
      "outputs": []
    },
    {
      "cell_type": "code",
      "metadata": {
        "id": "ahcOjXcVq6iU",
        "colab_type": "code",
        "colab": {}
      },
      "source": [
        "#print soup.prettify()"
      ],
      "execution_count": 0,
      "outputs": []
    },
    {
      "cell_type": "code",
      "metadata": {
        "id": "y5yjc6cFFJKt",
        "colab_type": "code",
        "outputId": "ea57d122-2b0f-4837-95d7-b92d719d5f48",
        "colab": {
          "base_uri": "https://localhost:8080/",
          "height": 34
        }
      },
      "source": [
        "name_box=soup.find('h1',attrs={\"class\":\"AHFaub\"}).find('span').text\n",
        "print name_box"
      ],
      "execution_count": 19,
      "outputs": [
        {
          "output_type": "stream",
          "text": [
            "Swing Man\n"
          ],
          "name": "stdout"
        }
      ]
    },
    {
      "cell_type": "code",
      "metadata": {
        "id": "s9cuGhYcNKmw",
        "colab_type": "code",
        "outputId": "ef0bd0ab-bc85-45ac-d683-7e46f0d4c52c",
        "colab": {
          "base_uri": "https://localhost:8080/",
          "height": 34
        }
      },
      "source": [
        "app_dev=soup.find('div',attrs={\"class\":\"qQKdcc\"}).find('span').find('a').text\n",
        "print app_dev"
      ],
      "execution_count": 20,
      "outputs": [
        {
          "output_type": "stream",
          "text": [
            "Playense\n"
          ],
          "name": "stdout"
        }
      ]
    },
    {
      "cell_type": "code",
      "metadata": {
        "id": "2kVKRCywNy-i",
        "colab_type": "code",
        "outputId": "780d3a5c-5ca6-4223-ba3e-ff6f61f78647",
        "colab": {
          "base_uri": "https://localhost:8080/",
          "height": 34
        }
      },
      "source": [
        "app_cat=soup.find('a',attrs={\"itemprop\":\"genre\"}).text\n",
        "print app_cat"
      ],
      "execution_count": 21,
      "outputs": [
        {
          "output_type": "stream",
          "text": [
            "Casual\n"
          ],
          "name": "stdout"
        }
      ]
    },
    {
      "cell_type": "code",
      "metadata": {
        "id": "5uiZvWczQn2i",
        "colab_type": "code",
        "outputId": "db46ac2e-2266-4258-e5e1-8dfe8826dcdf",
        "colab": {
          "base_uri": "https://localhost:8080/",
          "height": 54
        }
      },
      "source": [
        "app_desc=soup.find('div',attrs={\"jsname\":\"sngebd\"}).text\n",
        "print app_desc"
      ],
      "execution_count": 22,
      "outputs": [
        {
          "output_type": "stream",
          "text": [
            "You will play as a super boy who has to swing with his web throughout the city. It is really fantastic to move across the city with his power. Become the most courageous and fearless swing man! To protect the city you have to look from the sky by swinging. So swing as much as you can with your rope!The more levels you complete the more coins you will be able to earn and customize your superhero.And if you do really well and able to finish every level, you will become an ultimate champion of the city!Swing Man Features:- Incredible super abilities- Fantastically enthralling gameplay- Check your super hero reflection with missile!- Collect coins and customize your spider boy!\n"
          ],
          "name": "stdout"
        }
      ]
    },
    {
      "cell_type": "code",
      "metadata": {
        "id": "odpb5c84yLDr",
        "colab_type": "code",
        "colab": {}
      },
      "source": [
        "# Code to read csv file into Colaboratory:\n",
        "!pip install -U -q PyDrive\n",
        "from pydrive.auth import GoogleAuth\n",
        "from pydrive.drive import GoogleDrive\n",
        "from google.colab import auth\n",
        "from oauth2client.client import GoogleCredentials\n",
        "# Authenticate and create the PyDrive client.\n",
        "auth.authenticate_user()\n",
        "gauth = GoogleAuth()\n",
        "gauth.credentials = GoogleCredentials.get_application_default()\n",
        "drive = GoogleDrive(gauth)"
      ],
      "execution_count": 0,
      "outputs": []
    },
    {
      "cell_type": "code",
      "metadata": {
        "id": "qT8ICQPD0_53",
        "colab_type": "code",
        "colab": {
          "base_uri": "https://localhost:8080/",
          "height": 34
        },
        "outputId": "3c3684d9-774f-4a5a-8ec5-3ba66be6947c"
      },
      "source": [
        "link ='https://drive.google.com/open?id=1kKq8EZxMlFFRkBEEUDJMoOm8YybLEhXN'\n",
        "fluff, id = link.split('=')\n",
        "print (id) # Verify that you have everything after '='"
      ],
      "execution_count": 47,
      "outputs": [
        {
          "output_type": "stream",
          "text": [
            "1kKq8EZxMlFFRkBEEUDJMoOm8YybLEhXN\n"
          ],
          "name": "stdout"
        }
      ]
    },
    {
      "cell_type": "code",
      "metadata": {
        "id": "IuucxbeZ1aCu",
        "colab_type": "code",
        "colab": {}
      },
      "source": [
        "import pandas as pd\n",
        "downloaded = drive.CreateFile({'id':id}) \n",
        "downloaded.GetContentFile('Applist.csv')  \n",
        "App_data = pd.read_csv('Applist.csv')"
      ],
      "execution_count": 0,
      "outputs": []
    },
    {
      "cell_type": "code",
      "metadata": {
        "id": "a3EsdYFY1gqJ",
        "colab_type": "code",
        "colab": {
          "base_uri": "https://localhost:8080/",
          "height": 111
        },
        "outputId": "ccb9893b-0d0d-4446-8e65-9e84f91d942b"
      },
      "source": [
        "App_data['play_store_link']='https://play.google.com/store/apps/details?id='+App_data['App_Package']\n",
        "App_data=App_data.drop(['App_Package'], axis=1)\n",
        "App_data.head(2)"
      ],
      "execution_count": 69,
      "outputs": [
        {
          "output_type": "execute_result",
          "data": {
            "text/html": [
              "<div>\n",
              "<style scoped>\n",
              "    .dataframe tbody tr th:only-of-type {\n",
              "        vertical-align: middle;\n",
              "    }\n",
              "\n",
              "    .dataframe tbody tr th {\n",
              "        vertical-align: top;\n",
              "    }\n",
              "\n",
              "    .dataframe thead th {\n",
              "        text-align: right;\n",
              "    }\n",
              "</style>\n",
              "<table border=\"1\" class=\"dataframe\">\n",
              "  <thead>\n",
              "    <tr style=\"text-align: right;\">\n",
              "      <th></th>\n",
              "      <th>play_store_link</th>\n",
              "    </tr>\n",
              "  </thead>\n",
              "  <tbody>\n",
              "    <tr>\n",
              "      <th>0</th>\n",
              "      <td>https://play.google.com/store/apps/details?id=...</td>\n",
              "    </tr>\n",
              "    <tr>\n",
              "      <th>1</th>\n",
              "      <td>https://play.google.com/store/apps/details?id=...</td>\n",
              "    </tr>\n",
              "  </tbody>\n",
              "</table>\n",
              "</div>"
            ],
            "text/plain": [
              "                                     play_store_link\n",
              "0  https://play.google.com/store/apps/details?id=...\n",
              "1  https://play.google.com/store/apps/details?id=..."
            ]
          },
          "metadata": {
            "tags": []
          },
          "execution_count": 69
        }
      ]
    },
    {
      "cell_type": "code",
      "metadata": {
        "id": "mxZgLsU32cdB",
        "colab_type": "code",
        "colab": {
          "base_uri": "https://localhost:8080/",
          "height": 231
        },
        "outputId": "077a1aa6-e8af-490d-8126-b2ef0da10268"
      },
      "source": [
        "#List of variables used \n",
        "app_name = []\n",
        "app_owner = []\n",
        "app_category = []\n",
        "app_description = []\n",
        "from bs4 import BeautifulSoup\n",
        "for i in range(4):\n",
        "  link=App_data['play_store_link'].iloc[i]\n",
        "  page = urllib2.urlopen(link)\n",
        "  soup = BeautifulSoup(page)\n",
        "  name=soup.find('h1',attrs={\"class\":\"AHFaub\"}).find('span').text\n",
        "  app_name.append(name)\n",
        "  owner=soup.find('div',attrs={\"class\":\"qQKdcc\"}).find('span').find('a').text\n",
        "  app_owner.append(owner)\n",
        "  category=soup.find('a',attrs={\"itemprop\":\"genre\"}).text\n",
        "  app_category.append(category)\n",
        "  description=soup.find('div',attrs={\"jsname\":\"sngebd\"}).text\n",
        "  app_description.append(description)\n"
      ],
      "execution_count": 86,
      "outputs": [
        {
          "output_type": "error",
          "ename": "AttributeError",
          "evalue": "ignored",
          "traceback": [
            "\u001b[0;31m\u001b[0m",
            "\u001b[0;31mAttributeError\u001b[0mTraceback (most recent call last)",
            "\u001b[0;32m<ipython-input-86-b527133d71da>\u001b[0m in \u001b[0;36m<module>\u001b[0;34m()\u001b[0m\n\u001b[1;32m      8\u001b[0m   \u001b[0mpage\u001b[0m \u001b[0;34m=\u001b[0m \u001b[0murllib2\u001b[0m\u001b[0;34m.\u001b[0m\u001b[0murlopen\u001b[0m\u001b[0;34m(\u001b[0m\u001b[0mlink\u001b[0m\u001b[0;34m)\u001b[0m\u001b[0;34m\u001b[0m\u001b[0m\n\u001b[1;32m      9\u001b[0m   \u001b[0msoup\u001b[0m \u001b[0;34m=\u001b[0m \u001b[0mBeautifulSoup\u001b[0m\u001b[0;34m(\u001b[0m\u001b[0mpage\u001b[0m\u001b[0;34m)\u001b[0m\u001b[0;34m\u001b[0m\u001b[0m\n\u001b[0;32m---> 10\u001b[0;31m   \u001b[0mname\u001b[0m\u001b[0;34m=\u001b[0m\u001b[0msoup\u001b[0m\u001b[0;34m.\u001b[0m\u001b[0mfind\u001b[0m\u001b[0;34m(\u001b[0m\u001b[0;34m'h1'\u001b[0m\u001b[0;34m,\u001b[0m\u001b[0mattrs\u001b[0m\u001b[0;34m=\u001b[0m\u001b[0;34m{\u001b[0m\u001b[0;34m\"class\"\u001b[0m\u001b[0;34m:\u001b[0m\u001b[0;34m\"AHFaub\"\u001b[0m\u001b[0;34m}\u001b[0m\u001b[0;34m)\u001b[0m\u001b[0;34m.\u001b[0m\u001b[0mfind\u001b[0m\u001b[0;34m(\u001b[0m\u001b[0;34m'span'\u001b[0m\u001b[0;34m)\u001b[0m\u001b[0;34m.\u001b[0m\u001b[0mtext\u001b[0m\u001b[0;34m\u001b[0m\u001b[0m\n\u001b[0m\u001b[1;32m     11\u001b[0m   \u001b[0mapp_name\u001b[0m\u001b[0;34m.\u001b[0m\u001b[0mappend\u001b[0m\u001b[0;34m(\u001b[0m\u001b[0mname\u001b[0m\u001b[0;34m)\u001b[0m\u001b[0;34m\u001b[0m\u001b[0m\n\u001b[1;32m     12\u001b[0m   \u001b[0mowner\u001b[0m\u001b[0;34m=\u001b[0m\u001b[0msoup\u001b[0m\u001b[0;34m.\u001b[0m\u001b[0mfind\u001b[0m\u001b[0;34m(\u001b[0m\u001b[0;34m'div'\u001b[0m\u001b[0;34m,\u001b[0m\u001b[0mattrs\u001b[0m\u001b[0;34m=\u001b[0m\u001b[0;34m{\u001b[0m\u001b[0;34m\"class\"\u001b[0m\u001b[0;34m:\u001b[0m\u001b[0;34m\"qQKdcc\"\u001b[0m\u001b[0;34m}\u001b[0m\u001b[0;34m)\u001b[0m\u001b[0;34m.\u001b[0m\u001b[0mfind\u001b[0m\u001b[0;34m(\u001b[0m\u001b[0;34m'span'\u001b[0m\u001b[0;34m)\u001b[0m\u001b[0;34m.\u001b[0m\u001b[0mfind\u001b[0m\u001b[0;34m(\u001b[0m\u001b[0;34m'a'\u001b[0m\u001b[0;34m)\u001b[0m\u001b[0;34m.\u001b[0m\u001b[0mtext\u001b[0m\u001b[0;34m\u001b[0m\u001b[0m\n",
            "\u001b[0;31mAttributeError\u001b[0m: 'NoneType' object has no attribute 'find'"
          ]
        }
      ]
    },
    {
      "cell_type": "code",
      "metadata": {
        "id": "Nj9Qo2a1Gf5I",
        "colab_type": "code",
        "colab": {
          "base_uri": "https://localhost:8080/",
          "height": 197
        },
        "outputId": "1d3931ea-5a44-4789-b9bc-0e5ae28db0c1"
      },
      "source": [
        ""
      ],
      "execution_count": 90,
      "outputs": [
        {
          "output_type": "error",
          "ename": "AttributeError",
          "evalue": "ignored",
          "traceback": [
            "\u001b[0;31m\u001b[0m",
            "\u001b[0;31mAttributeError\u001b[0mTraceback (most recent call last)",
            "\u001b[0;32m<ipython-input-90-f8af6a9f3e23>\u001b[0m in \u001b[0;36m<module>\u001b[0;34m()\u001b[0m\n\u001b[1;32m      2\u001b[0m \u001b[0mpage\u001b[0m \u001b[0;34m=\u001b[0m \u001b[0murllib2\u001b[0m\u001b[0;34m.\u001b[0m\u001b[0murlopen\u001b[0m\u001b[0;34m(\u001b[0m\u001b[0mlink\u001b[0m\u001b[0;34m)\u001b[0m\u001b[0;34m\u001b[0m\u001b[0m\n\u001b[1;32m      3\u001b[0m \u001b[0msoup\u001b[0m \u001b[0;34m=\u001b[0m \u001b[0mBeautifulSoup\u001b[0m\u001b[0;34m(\u001b[0m\u001b[0mpage\u001b[0m\u001b[0;34m)\u001b[0m\u001b[0;34m\u001b[0m\u001b[0m\n\u001b[0;32m----> 4\u001b[0;31m \u001b[0mname\u001b[0m\u001b[0;34m=\u001b[0m\u001b[0msoup\u001b[0m\u001b[0;34m.\u001b[0m\u001b[0mfind\u001b[0m\u001b[0;34m(\u001b[0m\u001b[0;34m'h1'\u001b[0m\u001b[0;34m,\u001b[0m\u001b[0mattrs\u001b[0m\u001b[0;34m=\u001b[0m\u001b[0;34m{\u001b[0m\u001b[0;34m\"class\"\u001b[0m\u001b[0;34m:\u001b[0m\u001b[0;34m\"AHFaub\"\u001b[0m\u001b[0;34m}\u001b[0m\u001b[0;34m)\u001b[0m\u001b[0;34m.\u001b[0m\u001b[0mfind\u001b[0m\u001b[0;34m(\u001b[0m\u001b[0;34m'span'\u001b[0m\u001b[0;34m)\u001b[0m\u001b[0;34m.\u001b[0m\u001b[0mtext\u001b[0m\u001b[0;34m\u001b[0m\u001b[0m\n\u001b[0m",
            "\u001b[0;31mAttributeError\u001b[0m: 'NoneType' object has no attribute 'find'"
          ]
        }
      ]
    },
    {
      "cell_type": "code",
      "metadata": {
        "id": "W1JAJlZUG_ZF",
        "colab_type": "code",
        "colab": {
          "base_uri": "https://localhost:8080/",
          "height": 197
        },
        "outputId": "e0c21ebb-af76-46c8-f1cb-91d9d033d623"
      },
      "source": [
        "link=\"https://play.google.com/store/apps/details?id=com.billiards.city.pool.nation.club\"\n",
        "page = urllib2.urlopen(link)\n",
        "soup = BeautifulSoup(page)\n",
        "soup.find('h1',attrs={\"class\":\"AHFaub\"}).find('span')"
      ],
      "execution_count": 100,
      "outputs": [
        {
          "output_type": "error",
          "ename": "AttributeError",
          "evalue": "ignored",
          "traceback": [
            "\u001b[0;31m\u001b[0m",
            "\u001b[0;31mAttributeError\u001b[0mTraceback (most recent call last)",
            "\u001b[0;32m<ipython-input-100-479a1638bf59>\u001b[0m in \u001b[0;36m<module>\u001b[0;34m()\u001b[0m\n\u001b[1;32m      2\u001b[0m \u001b[0mpage\u001b[0m \u001b[0;34m=\u001b[0m \u001b[0murllib2\u001b[0m\u001b[0;34m.\u001b[0m\u001b[0murlopen\u001b[0m\u001b[0;34m(\u001b[0m\u001b[0mlink\u001b[0m\u001b[0;34m)\u001b[0m\u001b[0;34m\u001b[0m\u001b[0m\n\u001b[1;32m      3\u001b[0m \u001b[0msoup\u001b[0m \u001b[0;34m=\u001b[0m \u001b[0mBeautifulSoup\u001b[0m\u001b[0;34m(\u001b[0m\u001b[0mpage\u001b[0m\u001b[0;34m)\u001b[0m\u001b[0;34m\u001b[0m\u001b[0m\n\u001b[0;32m----> 4\u001b[0;31m \u001b[0msoup\u001b[0m\u001b[0;34m.\u001b[0m\u001b[0mfind\u001b[0m\u001b[0;34m(\u001b[0m\u001b[0;34m'h1'\u001b[0m\u001b[0;34m,\u001b[0m\u001b[0mattrs\u001b[0m\u001b[0;34m=\u001b[0m\u001b[0;34m{\u001b[0m\u001b[0;34m\"class\"\u001b[0m\u001b[0;34m:\u001b[0m\u001b[0;34m\"AHFaub\"\u001b[0m\u001b[0;34m}\u001b[0m\u001b[0;34m)\u001b[0m\u001b[0;34m.\u001b[0m\u001b[0mfind\u001b[0m\u001b[0;34m(\u001b[0m\u001b[0;34m'span'\u001b[0m\u001b[0;34m)\u001b[0m\u001b[0;34m\u001b[0m\u001b[0m\n\u001b[0m",
            "\u001b[0;31mAttributeError\u001b[0m: 'NoneType' object has no attribute 'find'"
          ]
        }
      ]
    },
    {
      "cell_type": "code",
      "metadata": {
        "id": "NFdTuPZIJKx4",
        "colab_type": "code",
        "colab": {
          "base_uri": "https://localhost:8080/",
          "height": 598
        },
        "outputId": "b174e88f-4af8-482a-a52a-cccc926a5d44"
      },
      "source": [
        "!pip install play-scraper\n",
        "import play_scraper\n",
        "print(play_scraper.details('com.mi.global.shop'))"
      ],
      "execution_count": 103,
      "outputs": [
        {
          "output_type": "stream",
          "text": [
            "Collecting play-scraper\n",
            "  Downloading https://files.pythonhosted.org/packages/77/2f/5573f8f266cb9cb589eea309c0e6c43ccfe9e19bc41ae5238636d26ee632/play_scraper-0.5.5-py2.py3-none-any.whl\n",
            "Requirement already satisfied: beautifulsoup4>=4.6.1 in /usr/local/lib/python2.7/dist-packages (from play-scraper) (4.6.3)\n",
            "Requirement already satisfied: requests[security]>=2.20.0 in /usr/local/lib/python2.7/dist-packages (from play-scraper) (2.21.0)\n",
            "Requirement already satisfied: lxml>=4.2.4 in /usr/local/lib/python2.7/dist-packages (from play-scraper) (4.2.6)\n",
            "Collecting requests-futures>=0.9.7 (from play-scraper)\n",
            "  Downloading https://files.pythonhosted.org/packages/e5/6b/c29ba0ce8d7d981c8099550148755846476c551f9e413801c0981f63ea91/requests-futures-0.9.9.tar.gz\n",
            "Requirement already satisfied: urllib3<1.25,>=1.21.1 in /usr/local/lib/python2.7/dist-packages (from requests[security]>=2.20.0->play-scraper) (1.24.3)\n",
            "Requirement already satisfied: certifi>=2017.4.17 in /usr/local/lib/python2.7/dist-packages (from requests[security]>=2.20.0->play-scraper) (2019.3.9)\n",
            "Requirement already satisfied: chardet<3.1.0,>=3.0.2 in /usr/local/lib/python2.7/dist-packages (from requests[security]>=2.20.0->play-scraper) (3.0.4)\n",
            "Requirement already satisfied: idna<2.9,>=2.5 in /usr/local/lib/python2.7/dist-packages (from requests[security]>=2.20.0->play-scraper) (2.8)\n",
            "Collecting cryptography>=1.3.4; extra == \"security\" (from requests[security]>=2.20.0->play-scraper)\n",
            "\u001b[?25l  Downloading https://files.pythonhosted.org/packages/c3/c1/cf8665c955c9393e9ff0872ba6cd3dc6f46ef915e94afcf6e0410508ca69/cryptography-2.6.1-cp27-cp27mu-manylinux1_x86_64.whl (2.3MB)\n",
            "\u001b[K     |████████████████████████████████| 2.3MB 4.2MB/s \n",
            "\u001b[?25hCollecting pyOpenSSL>=0.14; extra == \"security\" (from requests[security]>=2.20.0->play-scraper)\n",
            "\u001b[?25l  Downloading https://files.pythonhosted.org/packages/01/c8/ceb170d81bd3941cbeb9940fc6cc2ef2ca4288d0ca8929ea4db5905d904d/pyOpenSSL-19.0.0-py2.py3-none-any.whl (53kB)\n",
            "\u001b[K     |████████████████████████████████| 61kB 30.9MB/s \n",
            "\u001b[?25hRequirement already satisfied: futures>=2.1.3 in /usr/local/lib/python2.7/dist-packages (from requests-futures>=0.9.7->play-scraper) (3.2.0)\n",
            "Collecting asn1crypto>=0.21.0 (from cryptography>=1.3.4; extra == \"security\"->requests[security]>=2.20.0->play-scraper)\n",
            "\u001b[?25l  Downloading https://files.pythonhosted.org/packages/ea/cd/35485615f45f30a510576f1a56d1e0a7ad7bd8ab5ed7cdc600ef7cd06222/asn1crypto-0.24.0-py2.py3-none-any.whl (101kB)\n",
            "\u001b[K     |████████████████████████████████| 102kB 35.8MB/s \n",
            "\u001b[?25hRequirement already satisfied: enum34; python_version < \"3\" in /usr/local/lib/python2.7/dist-packages (from cryptography>=1.3.4; extra == \"security\"->requests[security]>=2.20.0->play-scraper) (1.1.6)\n",
            "Requirement already satisfied: ipaddress; python_version < \"3\" in /usr/local/lib/python2.7/dist-packages (from cryptography>=1.3.4; extra == \"security\"->requests[security]>=2.20.0->play-scraper) (1.0.22)\n",
            "Requirement already satisfied: cffi!=1.11.3,>=1.8 in /usr/local/lib/python2.7/dist-packages (from cryptography>=1.3.4; extra == \"security\"->requests[security]>=2.20.0->play-scraper) (1.12.3)\n",
            "Requirement already satisfied: six>=1.4.1 in /usr/local/lib/python2.7/dist-packages (from cryptography>=1.3.4; extra == \"security\"->requests[security]>=2.20.0->play-scraper) (1.12.0)\n",
            "Requirement already satisfied: pycparser in /usr/local/lib/python2.7/dist-packages (from cffi!=1.11.3,>=1.8->cryptography>=1.3.4; extra == \"security\"->requests[security]>=2.20.0->play-scraper) (2.19)\n",
            "Building wheels for collected packages: requests-futures\n",
            "  Building wheel for requests-futures (setup.py) ... \u001b[?25l\u001b[?25hdone\n",
            "  Stored in directory: /root/.cache/pip/wheels/2e/26/54/4db8d49fe5756e7a4c98fce36c5ea38a409f79c1d3f50f844a\n",
            "Successfully built requests-futures\n",
            "Installing collected packages: requests-futures, play-scraper, asn1crypto, cryptography, pyOpenSSL\n",
            "Successfully installed asn1crypto-0.24.0 cryptography-2.6.1 play-scraper-0.5.5 pyOpenSSL-19.0.0 requests-futures-0.9.9\n",
            "{'size': u'23M', 'updated': u'April 10, 2019', 'description': u\"Mi Store is Xiaomi\\u2019s official Android app to help you shop on-the-move. It offers a fast and intuitive interface to search, browse and purchase all Mi products, including phones, tablets and accessories, register for flash sales, pay securely using multiple payment options and track order delivery status. With this app, we'll ensure you have first dibs on all our new product launches and our special discount offers.\\nYou can pay using all major credit and debit cards including Visa, MasterCard, Maestro and American Express. We also support Net banking, with over 40 leading banks integrated into our payment system. With the Cash-on-Delivery option, you can choose to pay using cash during product delivery instead of making an online payment in advance. We also offer a flexible EMI option with leading banks.\\nMi.com\\u2019s easy replacement policy ensures that you get a replacement in case of any defects in the original product. Give us a call through the \\u2018Service\\u2019 tab in Mi Store to explain the issue you\\u2019re facing with your mi.com purchase, and our team will help resolve it. If the resolution doesn\\u2019t address the concern, we\\u2019ll ship out a replacement at no extra cost.\\nThis app requires the following permissions:\\n* Wi-fi: To allow the Mi Store app to connect to available wi-fi networks for faster browsing\\n* Device state: To identify the screen-size, android version, and analyze app crashes for improving overall performance.\\n* Files and Storage: To cache images for better performance.\\n* Push notifications: To notify users with upcoming deals, offers and price drops.\\nMi Store is requesting access to your device's information in order to provide more personalized service\\nMi Store is requesting access to your location in order to find Xiaomi Stores nearby\\nWe\\u2019d love to hear any suggestions, questions or comments. Mail us at app-feedback-in@xiaomi.com\", 'developer_address': None, 'price': '0', 'app_id': 'com.mi.global.shop', 'free': True, 'histogram': {1: None, 2: None, 3: None, 4: None, 5: None}, 'developer_id': 'Xiaomi', 'video': None, 'url': 'https://play.google.com/store/apps/details?id=com.mi.global.shop', 'current_version': u'3.4.5', 'screenshots': [], 'developer_url': 'http://www.mi.com', 'editors_choice': False, 'icon': 'https://lh3.googleusercontent.com/0DqrnGl7YqBFlVids_xVVrWRXE3GiwJdf5g1YcEsKJWYkWlfhPVKSe7pv6Mk-P816g', 'category': ['SHOPPING'], 'recent_changes': u'-Abundant Mi fans festival event\\n\\n-Support log in with Google account\\n\\n-Add search function\\n\\n-Optimize keyboard input experience\\n\\n-Add event page and window pop up\\n\\n-Add flash sale countdown module', 'iap_range': None, 'description_html': \"Mi Store is Xiaomi\\xe2\\x80\\x99s official Android app to help you shop on-the-move. It offers a fast and intuitive interface to search, browse and purchase all Mi products, including phones, tablets and accessories, register for flash sales, pay securely using multiple payment options and track order delivery status. With this app, we'll ensure you have first dibs on all our new product launches and our special discount offers.<br/><br/>You can pay using all major credit and debit cards including Visa, MasterCard, Maestro and American Express. We also support Net banking, with over 40 leading banks integrated into our payment system. With the Cash-on-Delivery option, you can choose to pay using cash during product delivery instead of making an online payment in advance. We also offer a flexible EMI option with leading banks.<br/><br/>Mi.com\\xe2\\x80\\x99s easy replacement policy ensures that you get a replacement in case of any defects in the original product. Give us a call through the \\xe2\\x80\\x98Service\\xe2\\x80\\x99 tab in Mi Store to explain the issue you\\xe2\\x80\\x99re facing with your mi.com purchase, and our team will help resolve it. If the resolution doesn\\xe2\\x80\\x99t address the concern, we\\xe2\\x80\\x99ll ship out a replacement at no extra cost.<br/><br/>This app requires the following permissions:<br/>   * Wi-fi: To allow the Mi Store app to connect to available wi-fi networks for faster browsing<br/>   * Device state: To identify the screen-size, android version, and analyze app crashes for improving overall performance.<br/>   * Files and Storage: To cache images for better performance.<br/>   * Push notifications: To notify users with upcoming deals, offers and price drops.<br/><br/>Mi Store is requesting access to your device's information in order to provide more personalized service<br/>Mi Store is requesting access to your location in order to find Xiaomi Stores nearby<br/><br/>We\\xe2\\x80\\x99d love to hear any suggestions, questions or comments. Mail us at app-feedback-in@xiaomi.com\", 'title': u'Mi Store', 'developer_email': 'app-feedback-in@xiaomi.com', 'content_rating': [u'Everyone'], 'interactive_elements': None, 'required_android_version': u'4.2 and up', 'reviews': 345682, 'installs': u'10,000,000+', 'score': u'4.5', 'developer': u'Xiaomi', 'iap': False}\n"
          ],
          "name": "stdout"
        }
      ]
    },
    {
      "cell_type": "code",
      "metadata": {
        "id": "ZMovLzghBauM",
        "colab_type": "code",
        "colab": {
          "base_uri": "https://localhost:8080/",
          "height": 34
        },
        "outputId": "1f4e1a8a-e193-49ca-8f4f-9b58a2ebdee2"
      },
      "source": [
        "data=play_scraper.details('com.billiards.city.pool.nation.club')\n",
        "type(data)"
      ],
      "execution_count": 105,
      "outputs": [
        {
          "output_type": "execute_result",
          "data": {
            "text/plain": [
              "dict"
            ]
          },
          "metadata": {
            "tags": []
          },
          "execution_count": 105
        }
      ]
    },
    {
      "cell_type": "code",
      "metadata": {
        "id": "CdQf_08_PbO6",
        "colab_type": "code",
        "colab": {
          "base_uri": "https://localhost:8080/",
          "height": 245
        },
        "outputId": "1f844603-f5e0-48da-d7c4-747d3ad3e167"
      },
      "source": [
        "all_dataframe=pd.DataFrame(data.items()).T\n",
        "all_dataframe.head(2)\n",
        "Req_data="
      ],
      "execution_count": 113,
      "outputs": [
        {
          "output_type": "execute_result",
          "data": {
            "text/html": [
              "<div>\n",
              "<style scoped>\n",
              "    .dataframe tbody tr th:only-of-type {\n",
              "        vertical-align: middle;\n",
              "    }\n",
              "\n",
              "    .dataframe tbody tr th {\n",
              "        vertical-align: top;\n",
              "    }\n",
              "\n",
              "    .dataframe thead th {\n",
              "        text-align: right;\n",
              "    }\n",
              "</style>\n",
              "<table border=\"1\" class=\"dataframe\">\n",
              "  <thead>\n",
              "    <tr style=\"text-align: right;\">\n",
              "      <th></th>\n",
              "      <th>0</th>\n",
              "      <th>1</th>\n",
              "      <th>2</th>\n",
              "      <th>3</th>\n",
              "      <th>4</th>\n",
              "      <th>5</th>\n",
              "      <th>6</th>\n",
              "      <th>7</th>\n",
              "      <th>8</th>\n",
              "      <th>9</th>\n",
              "      <th>...</th>\n",
              "      <th>20</th>\n",
              "      <th>21</th>\n",
              "      <th>22</th>\n",
              "      <th>23</th>\n",
              "      <th>24</th>\n",
              "      <th>25</th>\n",
              "      <th>26</th>\n",
              "      <th>27</th>\n",
              "      <th>28</th>\n",
              "      <th>29</th>\n",
              "    </tr>\n",
              "  </thead>\n",
              "  <tbody>\n",
              "    <tr>\n",
              "      <th>0</th>\n",
              "      <td>size</td>\n",
              "      <td>updated</td>\n",
              "      <td>description</td>\n",
              "      <td>developer_address</td>\n",
              "      <td>price</td>\n",
              "      <td>app_id</td>\n",
              "      <td>free</td>\n",
              "      <td>histogram</td>\n",
              "      <td>developer_id</td>\n",
              "      <td>video</td>\n",
              "      <td>...</td>\n",
              "      <td>title</td>\n",
              "      <td>developer_email</td>\n",
              "      <td>content_rating</td>\n",
              "      <td>interactive_elements</td>\n",
              "      <td>required_android_version</td>\n",
              "      <td>reviews</td>\n",
              "      <td>installs</td>\n",
              "      <td>score</td>\n",
              "      <td>developer</td>\n",
              "      <td>iap</td>\n",
              "    </tr>\n",
              "    <tr>\n",
              "      <th>1</th>\n",
              "      <td>34M</td>\n",
              "      <td>February 21, 2019</td>\n",
              "      <td>🎱\\nRelaxed Game of 8 Ball\\n🎱\\nBilliards City i...</td>\n",
              "      <td>None</td>\n",
              "      <td>0</td>\n",
              "      <td>com.billiards.city.pool.nation.club</td>\n",
              "      <td>True</td>\n",
              "      <td>{1: None, 2: None, 3: None, 4: None, 5: None}</td>\n",
              "      <td>MOUNTAIN+GAME</td>\n",
              "      <td>https://www.youtube.com/embed/2GtT-ZNr_q4</td>\n",
              "      <td>...</td>\n",
              "      <td>Pooking - Billiards City</td>\n",
              "      <td>zhangli332211@gmail.com</td>\n",
              "      <td>[Everyone]</td>\n",
              "      <td>None</td>\n",
              "      <td>4.1 and up</td>\n",
              "      <td>1165348</td>\n",
              "      <td>100,000,000+</td>\n",
              "      <td>4.5</td>\n",
              "      <td>MOUNTAIN GAME</td>\n",
              "      <td>False</td>\n",
              "    </tr>\n",
              "  </tbody>\n",
              "</table>\n",
              "<p>2 rows × 30 columns</p>\n",
              "</div>"
            ],
            "text/plain": [
              "     0                  1                                                  2   \\\n",
              "0  size            updated                                        description   \n",
              "1   34M  February 21, 2019  🎱\\nRelaxed Game of 8 Ball\\n🎱\\nBilliards City i...   \n",
              "\n",
              "                  3      4                                    5     6   \\\n",
              "0  developer_address  price                               app_id  free   \n",
              "1               None      0  com.billiards.city.pool.nation.club  True   \n",
              "\n",
              "                                              7              8   \\\n",
              "0                                      histogram   developer_id   \n",
              "1  {1: None, 2: None, 3: None, 4: None, 5: None}  MOUNTAIN+GAME   \n",
              "\n",
              "                                          9   ...                        20  \\\n",
              "0                                      video  ...                     title   \n",
              "1  https://www.youtube.com/embed/2GtT-ZNr_q4  ...  Pooking - Billiards City   \n",
              "\n",
              "                        21              22                    23  \\\n",
              "0          developer_email  content_rating  interactive_elements   \n",
              "1  zhangli332211@gmail.com      [Everyone]                  None   \n",
              "\n",
              "                         24       25            26     27             28  \\\n",
              "0  required_android_version  reviews      installs  score      developer   \n",
              "1                4.1 and up  1165348  100,000,000+    4.5  MOUNTAIN GAME   \n",
              "\n",
              "      29  \n",
              "0    iap  \n",
              "1  False  \n",
              "\n",
              "[2 rows x 30 columns]"
            ]
          },
          "metadata": {
            "tags": []
          },
          "execution_count": 113
        }
      ]
    },
    {
      "cell_type": "code",
      "metadata": {
        "id": "wYHJBkAvBgQe",
        "colab_type": "code",
        "colab": {
          "base_uri": "https://localhost:8080/",
          "height": 34
        },
        "outputId": "b21676ac-3204-4e76-fddb-09bec6a69160"
      },
      "source": [
        "app_owner"
      ],
      "execution_count": 76,
      "outputs": [
        {
          "output_type": "execute_result",
          "data": {
            "text/plain": [
              "[u'UCWeb Inc.', u'Apple, Inc.', u'Good Job Games']"
            ]
          },
          "metadata": {
            "tags": []
          },
          "execution_count": 76
        }
      ]
    },
    {
      "cell_type": "code",
      "metadata": {
        "id": "pkmApqGmB7Fq",
        "colab_type": "code",
        "colab": {
          "base_uri": "https://localhost:8080/",
          "height": 312
        },
        "outputId": "5d5ba8ef-10a6-4ed6-b3d3-0ea87fe0dcf2"
      },
      "source": [
        "test_df = pd.DataFrame({'app_name': app_name,\n",
        "'app_owner': app_owner,\n",
        "'app_category': app_category,\n",
        "'app_description': app_description\n",
        "})\n",
        "print(test_df.info())\n",
        "test_df"
      ],
      "execution_count": 78,
      "outputs": [
        {
          "output_type": "stream",
          "text": [
            "<class 'pandas.core.frame.DataFrame'>\n",
            "RangeIndex: 3 entries, 0 to 2\n",
            "Data columns (total 4 columns):\n",
            "app_category       3 non-null object\n",
            "app_description    3 non-null object\n",
            "app_name           3 non-null object\n",
            "app_owner          3 non-null object\n",
            "dtypes: object(4)\n",
            "memory usage: 168.0+ bytes\n",
            "None\n"
          ],
          "name": "stdout"
        },
        {
          "output_type": "execute_result",
          "data": {
            "text/html": [
              "<div>\n",
              "<style scoped>\n",
              "    .dataframe tbody tr th:only-of-type {\n",
              "        vertical-align: middle;\n",
              "    }\n",
              "\n",
              "    .dataframe tbody tr th {\n",
              "        vertical-align: top;\n",
              "    }\n",
              "\n",
              "    .dataframe thead th {\n",
              "        text-align: right;\n",
              "    }\n",
              "</style>\n",
              "<table border=\"1\" class=\"dataframe\">\n",
              "  <thead>\n",
              "    <tr style=\"text-align: right;\">\n",
              "      <th></th>\n",
              "      <th>app_category</th>\n",
              "      <th>app_description</th>\n",
              "      <th>app_name</th>\n",
              "      <th>app_owner</th>\n",
              "    </tr>\n",
              "  </thead>\n",
              "  <tbody>\n",
              "    <tr>\n",
              "      <th>0</th>\n",
              "      <td>Communication</td>\n",
              "      <td>UC Browser enables you to share hot memes and ...</td>\n",
              "      <td>UC Browser – Video Downloader, Watch Video Off...</td>\n",
              "      <td>UCWeb Inc.</td>\n",
              "    </tr>\n",
              "    <tr>\n",
              "      <th>1</th>\n",
              "      <td>Music &amp; Audio</td>\n",
              "      <td>Shazam is one of the worldâ€™s most popular ap...</td>\n",
              "      <td>Shazam</td>\n",
              "      <td>Apple, Inc.</td>\n",
              "    </tr>\n",
              "    <tr>\n",
              "      <th>2</th>\n",
              "      <td>Action</td>\n",
              "      <td>Swing Star  is here!Catch, swing , glide, enjo...</td>\n",
              "      <td>Swing Star</td>\n",
              "      <td>Good Job Games</td>\n",
              "    </tr>\n",
              "  </tbody>\n",
              "</table>\n",
              "</div>"
            ],
            "text/plain": [
              "    app_category                                    app_description  \\\n",
              "0  Communication  UC Browser enables you to share hot memes and ...   \n",
              "1  Music & Audio  Shazam is one of the worldâ€™s most popular ap...   \n",
              "2         Action  Swing Star  is here!Catch, swing , glide, enjo...   \n",
              "\n",
              "                                            app_name       app_owner  \n",
              "0  UC Browser – Video Downloader, Watch Video Off...      UCWeb Inc.  \n",
              "1                                             Shazam     Apple, Inc.  \n",
              "2                                         Swing Star  Good Job Games  "
            ]
          },
          "metadata": {
            "tags": []
          },
          "execution_count": 78
        }
      ]
    }
  ]
}